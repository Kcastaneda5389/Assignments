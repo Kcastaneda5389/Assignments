{
 "cells": [
  {
   "cell_type": "markdown",
   "metadata": {},
   "source": [
    "### Heroes Of Pymoli Data Analysis\n",
    "* Of the 1163 active players, the vast majority are male (84%). There also exists, a smaller, but notable proportion of female players (14%).\n",
    "\n",
    "* Our peak age demographic falls between 20-24 (44.8%) with secondary groups falling between 15-19 (18.60%) and 25-29 (13.4%).  \n",
    "-----"
   ]
  },
  {
   "cell_type": "code",
   "execution_count": 1,
   "metadata": {},
   "outputs": [],
   "source": [
    "# Dependencies and Setup\n",
    "import pandas as pd\n",
    "import numpy as np\n",
    "\n",
    "# Data file loaction \n",
    "file_location = \"C:/Users/12104/OneDrive/Data-Bootcamp/04-Pandas/HeroesOfPymoli/Resources/purchase_data.csv\"\n",
    "\n",
    "# Read Purchasing File and store into Pandas data frame\n",
    "purchase_data = pd.read_csv(file_location)"
   ]
  },
  {
   "cell_type": "markdown",
   "metadata": {},
   "source": [
    "## Player Count"
   ]
  },
  {
   "cell_type": "code",
   "execution_count": 2,
   "metadata": {},
   "outputs": [
    {
     "data": {
      "text/plain": [
       "576"
      ]
     },
     "execution_count": 2,
     "metadata": {},
     "output_type": "execute_result"
    }
   ],
   "source": [
    "total_users = purchase_data['SN'].nunique()\n",
    "total_users"
   ]
  },
  {
   "cell_type": "markdown",
   "metadata": {},
   "source": [
    "## Purchasing Analysis (Total)"
   ]
  },
  {
   "cell_type": "code",
   "execution_count": 3,
   "metadata": {
    "scrolled": true
   },
   "outputs": [
    {
     "data": {
      "text/plain": [
       "183"
      ]
     },
     "execution_count": 3,
     "metadata": {},
     "output_type": "execute_result"
    }
   ],
   "source": [
    "#Note: nunique returns number of unique elements in the object.\n",
    "unique_items = purchase_data['Item ID'].nunique()\n",
    "unique_items"
   ]
  },
  {
   "cell_type": "code",
   "execution_count": 4,
   "metadata": {},
   "outputs": [
    {
     "name": "stdout",
     "output_type": "stream",
     "text": [
      "$3.05\n"
     ]
    }
   ],
   "source": [
    "average_price = purchase_data['Price'].mean()\n",
    "average_price\n",
    "\n",
    "average_price_final = ('${:,.2f}'.format(average_price))\n",
    "print(average_price_final)"
   ]
  },
  {
   "cell_type": "code",
   "execution_count": 5,
   "metadata": {},
   "outputs": [
    {
     "data": {
      "text/plain": [
       "780"
      ]
     },
     "execution_count": 5,
     "metadata": {},
     "output_type": "execute_result"
    }
   ],
   "source": [
    "total_purchases = purchase_data['Purchase ID'].count()\n",
    "total_purchases"
   ]
  },
  {
   "cell_type": "code",
   "execution_count": 6,
   "metadata": {},
   "outputs": [
    {
     "name": "stdout",
     "output_type": "stream",
     "text": [
      "$2,379.77\n"
     ]
    }
   ],
   "source": [
    "revenue = purchase_data['Price'].sum()\n",
    "revenue\n",
    "\n",
    "total_revenue = ('${:,.2f}'.format(revenue))\n",
    "print(total_revenue)"
   ]
  },
  {
   "cell_type": "code",
   "execution_count": 7,
   "metadata": {},
   "outputs": [
    {
     "data": {
      "text/html": [
       "<div>\n",
       "<style scoped>\n",
       "    .dataframe tbody tr th:only-of-type {\n",
       "        vertical-align: middle;\n",
       "    }\n",
       "\n",
       "    .dataframe tbody tr th {\n",
       "        vertical-align: top;\n",
       "    }\n",
       "\n",
       "    .dataframe thead th {\n",
       "        text-align: right;\n",
       "    }\n",
       "</style>\n",
       "<table border=\"1\" class=\"dataframe\">\n",
       "  <thead>\n",
       "    <tr style=\"text-align: right;\">\n",
       "      <th></th>\n",
       "      <th>Total Users</th>\n",
       "      <th>Total Items</th>\n",
       "      <th>Average Item Price</th>\n",
       "      <th>Total Revenue</th>\n",
       "    </tr>\n",
       "  </thead>\n",
       "  <tbody>\n",
       "    <tr>\n",
       "      <th>0</th>\n",
       "      <td>576</td>\n",
       "      <td>183</td>\n",
       "      <td>$3.05</td>\n",
       "      <td>$2,379.77</td>\n",
       "    </tr>\n",
       "  </tbody>\n",
       "</table>\n",
       "</div>"
      ],
      "text/plain": [
       "   Total Users  Total Items Average Item Price Total Revenue\n",
       "0          576          183              $3.05     $2,379.77"
      ]
     },
     "execution_count": 7,
     "metadata": {},
     "output_type": "execute_result"
    }
   ],
   "source": [
    "summary_table = pd.DataFrame({\"Total Users\": [total_users],\n",
    "                              \"Total Items\": [unique_items],\n",
    "                              \"Average Item Price\": [average_price_final],\n",
    "                              \"Total Revenue\": [total_revenue]})\n",
    "summary_table"
   ]
  },
  {
   "cell_type": "markdown",
   "metadata": {},
   "source": [
    "## Gender Demographics"
   ]
  },
  {
   "cell_type": "code",
   "execution_count": 8,
   "metadata": {},
   "outputs": [
    {
     "name": "stdout",
     "output_type": "stream",
     "text": [
      "Male                     652\n",
      "Female                   113\n",
      "Other / Non-Disclosed     15\n",
      "Name: Gender, dtype: int64\n"
     ]
    }
   ],
   "source": [
    "#Total Gender Overview\n",
    "gender_breakdown = purchase_data['Gender'].value_counts()\n",
    "gender_breakdown\n",
    "print(gender_breakdown)"
   ]
  },
  {
   "cell_type": "code",
   "execution_count": 9,
   "metadata": {},
   "outputs": [
    {
     "name": "stdout",
     "output_type": "stream",
     "text": [
      "84.03%\n"
     ]
    }
   ],
   "source": [
    "#Male Analysis\n",
    "male_count = purchase_data[purchase_data['Gender'] == 'Male']['SN'].nunique()\n",
    "male_count\n",
    "\n",
    "male_percentage = ((male_count/total_users)*100) \n",
    "                     \n",
    "printmale_percentage = ('{:.2f}%'.format(male_percentage))\n",
    "print(printmale_percentage)"
   ]
  },
  {
   "cell_type": "code",
   "execution_count": 10,
   "metadata": {},
   "outputs": [
    {
     "name": "stdout",
     "output_type": "stream",
     "text": [
      "14.06%\n"
     ]
    }
   ],
   "source": [
    "#Female Analysis\n",
    "female_count = purchase_data[purchase_data['Gender'] == 'Female'][\"SN\"].nunique()\n",
    "female_count\n",
    "\n",
    "female_percentage = ((female_count/total_users)*100) \n",
    "                     \n",
    "printfemale_percentage = ('{:.2f}%'.format(female_percentage))\n",
    "print(printfemale_percentage)"
   ]
  },
  {
   "cell_type": "code",
   "execution_count": 11,
   "metadata": {},
   "outputs": [
    {
     "name": "stdout",
     "output_type": "stream",
     "text": [
      "1.91%\n"
     ]
    }
   ],
   "source": [
    "#Other Analysis\n",
    "other_count = purchase_data[purchase_data['Gender'] == 'Other / Non-Disclosed'][\"SN\"].nunique()\n",
    "other_count\n",
    "\n",
    "other_percentage = ((other_count/total_users)*100) \n",
    "                     \n",
    "printother_percentage = ('{:.2f}%'.format(other_percentage))\n",
    "print(printother_percentage)"
   ]
  },
  {
   "cell_type": "code",
   "execution_count": 12,
   "metadata": {},
   "outputs": [
    {
     "data": {
      "text/html": [
       "<div>\n",
       "<style scoped>\n",
       "    .dataframe tbody tr th:only-of-type {\n",
       "        vertical-align: middle;\n",
       "    }\n",
       "\n",
       "    .dataframe tbody tr th {\n",
       "        vertical-align: top;\n",
       "    }\n",
       "\n",
       "    .dataframe thead th {\n",
       "        text-align: right;\n",
       "    }\n",
       "</style>\n",
       "<table border=\"1\" class=\"dataframe\">\n",
       "  <thead>\n",
       "    <tr style=\"text-align: right;\">\n",
       "      <th></th>\n",
       "      <th></th>\n",
       "      <th>Percentage of Players</th>\n",
       "      <th>Total Count</th>\n",
       "    </tr>\n",
       "  </thead>\n",
       "  <tbody>\n",
       "    <tr>\n",
       "      <th>0</th>\n",
       "      <td>Male</td>\n",
       "      <td>84.03%</td>\n",
       "      <td>484</td>\n",
       "    </tr>\n",
       "    <tr>\n",
       "      <th>1</th>\n",
       "      <td>Female</td>\n",
       "      <td>14.06%</td>\n",
       "      <td>81</td>\n",
       "    </tr>\n",
       "    <tr>\n",
       "      <th>2</th>\n",
       "      <td>Other/Non-Disclosed</td>\n",
       "      <td>1.91%</td>\n",
       "      <td>11</td>\n",
       "    </tr>\n",
       "  </tbody>\n",
       "</table>\n",
       "</div>"
      ],
      "text/plain": [
       "                       Percentage of Players  Total Count\n",
       "0                 Male                84.03%          484\n",
       "1               Female                14.06%           81\n",
       "2  Other/Non-Disclosed                 1.91%           11"
      ]
     },
     "execution_count": 12,
     "metadata": {},
     "output_type": "execute_result"
    }
   ],
   "source": [
    "#Final Overview\n",
    "final_demo = pd.DataFrame({\"\": ['Male', 'Female', 'Other/Non-Disclosed'],\n",
    "                            \"Percentage of Players\": [printmale_percentage, printfemale_percentage, printother_percentage],\n",
    "                            \"Total Count\": [male_count, female_count, other_count]})\n",
    "final_demo"
   ]
  },
  {
   "cell_type": "markdown",
   "metadata": {},
   "source": [
    "\n",
    "## Purchasing Analysis (Gender)"
   ]
  },
  {
   "cell_type": "code",
   "execution_count": 13,
   "metadata": {},
   "outputs": [
    {
     "data": {
      "text/html": [
       "<div>\n",
       "<style scoped>\n",
       "    .dataframe tbody tr th:only-of-type {\n",
       "        vertical-align: middle;\n",
       "    }\n",
       "\n",
       "    .dataframe tbody tr th {\n",
       "        vertical-align: top;\n",
       "    }\n",
       "\n",
       "    .dataframe thead th {\n",
       "        text-align: right;\n",
       "    }\n",
       "</style>\n",
       "<table border=\"1\" class=\"dataframe\">\n",
       "  <thead>\n",
       "    <tr style=\"text-align: right;\">\n",
       "      <th></th>\n",
       "      <th>Total Purchases</th>\n",
       "      <th>Average Purchase Price</th>\n",
       "      <th>Total Revenue</th>\n",
       "      <th>Average Per User</th>\n",
       "    </tr>\n",
       "  </thead>\n",
       "  <tbody>\n",
       "    <tr>\n",
       "      <th>0</th>\n",
       "      <td>652</td>\n",
       "      <td>$3.02</td>\n",
       "      <td>$1,967.64</td>\n",
       "      <td>$4.07</td>\n",
       "    </tr>\n",
       "  </tbody>\n",
       "</table>\n",
       "</div>"
      ],
      "text/plain": [
       "   Total Purchases Average Purchase Price Total Revenue Average Per User\n",
       "0              652                  $3.02     $1,967.64            $4.07"
      ]
     },
     "execution_count": 13,
     "metadata": {},
     "output_type": "execute_result"
    }
   ],
   "source": [
    "#Male Purchasing \n",
    "male_purch = purchase_data[purchase_data[\"Gender\"] == \"Male\"][\"Price\"].count()\n",
    "\n",
    "male_priceavg = purchase_data[purchase_data[\"Gender\"] == \"Male\"][\"Price\"].mean()\n",
    "printmale_priceavg = ('${:,.2f}'.format(male_priceavg))\n",
    "\n",
    "\n",
    "male_pricetotal = purchase_data[purchase_data[\"Gender\"] == \"Male\"][\"Price\"].sum()\n",
    "printmale_pricetotal = ('${:,.2f}'.format(male_pricetotal))\n",
    "\n",
    "male_useravg = male_pricetotal / male_count\n",
    "printmale_useravg = ('${:,.2f}'.format(male_useravg))\n",
    "\n",
    "summary_table = pd.DataFrame({\"Total Purchases\": [male_purch],\n",
    "                              \"Average Purchase Price\": [printmale_priceavg],\n",
    "                              \"Total Revenue\": [printmale_pricetotal],\n",
    "                               \"Average Per User\": [printmale_useravg]})\n",
    "summary_table"
   ]
  },
  {
   "cell_type": "code",
   "execution_count": 14,
   "metadata": {},
   "outputs": [
    {
     "data": {
      "text/html": [
       "<div>\n",
       "<style scoped>\n",
       "    .dataframe tbody tr th:only-of-type {\n",
       "        vertical-align: middle;\n",
       "    }\n",
       "\n",
       "    .dataframe tbody tr th {\n",
       "        vertical-align: top;\n",
       "    }\n",
       "\n",
       "    .dataframe thead th {\n",
       "        text-align: right;\n",
       "    }\n",
       "</style>\n",
       "<table border=\"1\" class=\"dataframe\">\n",
       "  <thead>\n",
       "    <tr style=\"text-align: right;\">\n",
       "      <th></th>\n",
       "      <th>Total Purchases</th>\n",
       "      <th>Average Purchase Price</th>\n",
       "      <th>Total Revenue</th>\n",
       "      <th>Average Per User</th>\n",
       "    </tr>\n",
       "  </thead>\n",
       "  <tbody>\n",
       "    <tr>\n",
       "      <th>0</th>\n",
       "      <td>113</td>\n",
       "      <td>$3.20</td>\n",
       "      <td>$361.94</td>\n",
       "      <td>$4.47</td>\n",
       "    </tr>\n",
       "  </tbody>\n",
       "</table>\n",
       "</div>"
      ],
      "text/plain": [
       "   Total Purchases Average Purchase Price Total Revenue Average Per User\n",
       "0              113                  $3.20       $361.94            $4.47"
      ]
     },
     "execution_count": 14,
     "metadata": {},
     "output_type": "execute_result"
    }
   ],
   "source": [
    "#Female Purchasing \n",
    "female_purch = purchase_data[purchase_data[\"Gender\"] == \"Female\"][\"Price\"].count()\n",
    "\n",
    "female_priceavg = purchase_data[purchase_data[\"Gender\"] == \"Female\"][\"Price\"].mean()\n",
    "printfemale_priceavg = ('${:,.2f}'.format(female_priceavg))\n",
    "\n",
    "female_pricetotal = purchase_data[purchase_data[\"Gender\"] == \"Female\"][\"Price\"].sum()\n",
    "printfemale_pricetotal = ('${:,.2f}'.format(female_pricetotal))\n",
    "\n",
    "female_useravg = female_pricetotal / female_count\n",
    "printfemale_useravg = ('${:,.2f}'.format(female_useravg))\n",
    "\n",
    "\n",
    "summary_table = pd.DataFrame({\"Total Purchases\": [female_purch],\n",
    "                              \"Average Purchase Price\": [printfemale_priceavg],\n",
    "                              \"Total Revenue\": [printfemale_pricetotal],\n",
    "                              \"Average Per User\": [printfemale_useravg]})\n",
    "summary_table"
   ]
  },
  {
   "cell_type": "code",
   "execution_count": 18,
   "metadata": {},
   "outputs": [
    {
     "data": {
      "text/html": [
       "<div>\n",
       "<style scoped>\n",
       "    .dataframe tbody tr th:only-of-type {\n",
       "        vertical-align: middle;\n",
       "    }\n",
       "\n",
       "    .dataframe tbody tr th {\n",
       "        vertical-align: top;\n",
       "    }\n",
       "\n",
       "    .dataframe thead th {\n",
       "        text-align: right;\n",
       "    }\n",
       "</style>\n",
       "<table border=\"1\" class=\"dataframe\">\n",
       "  <thead>\n",
       "    <tr style=\"text-align: right;\">\n",
       "      <th></th>\n",
       "      <th>Total Purchases</th>\n",
       "      <th>Average Purchase Price</th>\n",
       "      <th>Total Revenue</th>\n",
       "      <th>Average Per User</th>\n",
       "    </tr>\n",
       "  </thead>\n",
       "  <tbody>\n",
       "    <tr>\n",
       "      <th>0</th>\n",
       "      <td>15</td>\n",
       "      <td>$3.35</td>\n",
       "      <td>$50.19</td>\n",
       "      <td>$4.56</td>\n",
       "    </tr>\n",
       "  </tbody>\n",
       "</table>\n",
       "</div>"
      ],
      "text/plain": [
       "   Total Purchases Average Purchase Price Total Revenue Average Per User\n",
       "0               15                  $3.35        $50.19            $4.56"
      ]
     },
     "execution_count": 18,
     "metadata": {},
     "output_type": "execute_result"
    }
   ],
   "source": [
    "#Other Purchasing\n",
    "other_purch = purchase_data[purchase_data[\"Gender\"] == \"Other / Non-Disclosed\"][\"Price\"].count()\n",
    "\n",
    "other_priceavg = purchase_data[purchase_data[\"Gender\"] == \"Other / Non-Disclosed\"][\"Price\"].mean()\n",
    "printother_priceavg = ('${:,.2f}'.format(other_priceavg))\n",
    "\n",
    "other_pricetotal = purchase_data[purchase_data[\"Gender\"] == \"Other / Non-Disclosed\"][\"Price\"].sum()\n",
    "printother_pricetotal = ('${:,.2f}'.format(other_pricetotal))\n",
    "\n",
    "other_useravg = other_pricetotal / other_count\n",
    "printother_useravg = ('${:,.2f}'.format(other_useravg))\n",
    "\n",
    "\n",
    "summary_table = pd.DataFrame({\"Total Purchases\": [other_purch],\n",
    "                              \"Average Purchase Price\": [printother_priceavg],\n",
    "                              \"Total Revenue\": [printother_pricetotal],\n",
    "                              \"Average Per User\":[printother_useravg]})\n",
    "summary_table"
   ]
  },
  {
   "cell_type": "code",
   "execution_count": 21,
   "metadata": {},
   "outputs": [
    {
     "data": {
      "text/html": [
       "<div>\n",
       "<style scoped>\n",
       "    .dataframe tbody tr th:only-of-type {\n",
       "        vertical-align: middle;\n",
       "    }\n",
       "\n",
       "    .dataframe tbody tr th {\n",
       "        vertical-align: top;\n",
       "    }\n",
       "\n",
       "    .dataframe thead th {\n",
       "        text-align: right;\n",
       "    }\n",
       "</style>\n",
       "<table border=\"1\" class=\"dataframe\">\n",
       "  <thead>\n",
       "    <tr style=\"text-align: right;\">\n",
       "      <th></th>\n",
       "      <th>Gender</th>\n",
       "      <th>Purchase Count</th>\n",
       "      <th>Average Purchase Price</th>\n",
       "      <th>Total Purchase Value</th>\n",
       "      <th>Average Purchase Per User</th>\n",
       "    </tr>\n",
       "  </thead>\n",
       "  <tbody>\n",
       "    <tr>\n",
       "      <th>0</th>\n",
       "      <td>Male</td>\n",
       "      <td>652</td>\n",
       "      <td>$3.02</td>\n",
       "      <td>$1,967.64</td>\n",
       "      <td>$4.07</td>\n",
       "    </tr>\n",
       "    <tr>\n",
       "      <th>1</th>\n",
       "      <td>Female</td>\n",
       "      <td>113</td>\n",
       "      <td>$3.20</td>\n",
       "      <td>$361.94</td>\n",
       "      <td>$4.47</td>\n",
       "    </tr>\n",
       "    <tr>\n",
       "      <th>2</th>\n",
       "      <td>Other / Non-Disclosed</td>\n",
       "      <td>15</td>\n",
       "      <td>$3.35</td>\n",
       "      <td>$50.19</td>\n",
       "      <td>$4.56</td>\n",
       "    </tr>\n",
       "  </tbody>\n",
       "</table>\n",
       "</div>"
      ],
      "text/plain": [
       "                  Gender  Purchase Count Average Purchase Price  \\\n",
       "0                   Male             652                  $3.02   \n",
       "1                 Female             113                  $3.20   \n",
       "2  Other / Non-Disclosed              15                  $3.35   \n",
       "\n",
       "  Total Purchase Value Average Purchase Per User  \n",
       "0            $1,967.64                     $4.07  \n",
       "1              $361.94                     $4.47  \n",
       "2               $50.19                     $4.56  "
      ]
     },
     "execution_count": 21,
     "metadata": {},
     "output_type": "execute_result"
    }
   ],
   "source": [
    "#Genders Overview\n",
    "final_purchasing= pd.DataFrame({\"Gender\": [\"Male\", \"Female\", \"Other / Non-Disclosed\"], \"Purchase Count\": [male_purch, female_purch, other_purch],\n",
    "                                        \"Average Purchase Price\": [printmale_priceavg, printfemale_priceavg, printother_priceavg], \"Total Purchase Value\": [printmale_pricetotal, printfemale_pricetotal, printother_pricetotal],\"Average Purchase Per User\":[printmale_useravg,printfemale_useravg,printother_useravg]},\n",
    "                                        columns = [\"Gender\", \"Purchase Count\", \"Average Purchase Price\", \"Total Purchase Value\",\"Average Purchase Per User\"])\n",
    "final_purchasing"
   ]
  },
  {
   "cell_type": "markdown",
   "metadata": {},
   "source": [
    "## Age Demographics"
   ]
  },
  {
   "cell_type": "code",
   "execution_count": 32,
   "metadata": {},
   "outputs": [
    {
     "data": {
      "text/html": [
       "<style  type=\"text/css\" >\n",
       "</style>  \n",
       "<table id=\"T_03678ce4_79c9_11e9_a695_2816a853cfe2\" > \n",
       "<thead>    <tr> \n",
       "        <th class=\"blank level0\" ></th> \n",
       "        <th class=\"col_heading level0 col0\" >Percentage of Players</th> \n",
       "        <th class=\"col_heading level0 col1\" >Total Count</th> \n",
       "    </tr>    <tr> \n",
       "        <th class=\"index_name level0\" >Age</th> \n",
       "        <th class=\"blank\" ></th> \n",
       "        <th class=\"blank\" ></th> \n",
       "    </tr></thead> \n",
       "<tbody>    <tr> \n",
       "        <th id=\"T_03678ce4_79c9_11e9_a695_2816a853cfe2level0_row0\" class=\"row_heading level0 row0\" ><10</th> \n",
       "        <td id=\"T_03678ce4_79c9_11e9_a695_2816a853cfe2row0_col0\" class=\"data row0 col0\" >2.95%</td> \n",
       "        <td id=\"T_03678ce4_79c9_11e9_a695_2816a853cfe2row0_col1\" class=\"data row0 col1\" >17</td> \n",
       "    </tr>    <tr> \n",
       "        <th id=\"T_03678ce4_79c9_11e9_a695_2816a853cfe2level0_row1\" class=\"row_heading level0 row1\" >10-14</th> \n",
       "        <td id=\"T_03678ce4_79c9_11e9_a695_2816a853cfe2row1_col0\" class=\"data row1 col0\" >3.82%</td> \n",
       "        <td id=\"T_03678ce4_79c9_11e9_a695_2816a853cfe2row1_col1\" class=\"data row1 col1\" >22</td> \n",
       "    </tr>    <tr> \n",
       "        <th id=\"T_03678ce4_79c9_11e9_a695_2816a853cfe2level0_row2\" class=\"row_heading level0 row2\" >15-19</th> \n",
       "        <td id=\"T_03678ce4_79c9_11e9_a695_2816a853cfe2row2_col0\" class=\"data row2 col0\" >18.58%</td> \n",
       "        <td id=\"T_03678ce4_79c9_11e9_a695_2816a853cfe2row2_col1\" class=\"data row2 col1\" >107</td> \n",
       "    </tr>    <tr> \n",
       "        <th id=\"T_03678ce4_79c9_11e9_a695_2816a853cfe2level0_row3\" class=\"row_heading level0 row3\" >20-24</th> \n",
       "        <td id=\"T_03678ce4_79c9_11e9_a695_2816a853cfe2row3_col0\" class=\"data row3 col0\" >44.79%</td> \n",
       "        <td id=\"T_03678ce4_79c9_11e9_a695_2816a853cfe2row3_col1\" class=\"data row3 col1\" >258</td> \n",
       "    </tr>    <tr> \n",
       "        <th id=\"T_03678ce4_79c9_11e9_a695_2816a853cfe2level0_row4\" class=\"row_heading level0 row4\" >25-29</th> \n",
       "        <td id=\"T_03678ce4_79c9_11e9_a695_2816a853cfe2row4_col0\" class=\"data row4 col0\" >13.37%</td> \n",
       "        <td id=\"T_03678ce4_79c9_11e9_a695_2816a853cfe2row4_col1\" class=\"data row4 col1\" >77</td> \n",
       "    </tr>    <tr> \n",
       "        <th id=\"T_03678ce4_79c9_11e9_a695_2816a853cfe2level0_row5\" class=\"row_heading level0 row5\" >30-34</th> \n",
       "        <td id=\"T_03678ce4_79c9_11e9_a695_2816a853cfe2row5_col0\" class=\"data row5 col0\" >9.03%</td> \n",
       "        <td id=\"T_03678ce4_79c9_11e9_a695_2816a853cfe2row5_col1\" class=\"data row5 col1\" >52</td> \n",
       "    </tr>    <tr> \n",
       "        <th id=\"T_03678ce4_79c9_11e9_a695_2816a853cfe2level0_row6\" class=\"row_heading level0 row6\" >35-39</th> \n",
       "        <td id=\"T_03678ce4_79c9_11e9_a695_2816a853cfe2row6_col0\" class=\"data row6 col0\" >5.38%</td> \n",
       "        <td id=\"T_03678ce4_79c9_11e9_a695_2816a853cfe2row6_col1\" class=\"data row6 col1\" >31</td> \n",
       "    </tr>    <tr> \n",
       "        <th id=\"T_03678ce4_79c9_11e9_a695_2816a853cfe2level0_row7\" class=\"row_heading level0 row7\" >40-44</th> \n",
       "        <td id=\"T_03678ce4_79c9_11e9_a695_2816a853cfe2row7_col0\" class=\"data row7 col0\" >1.91%</td> \n",
       "        <td id=\"T_03678ce4_79c9_11e9_a695_2816a853cfe2row7_col1\" class=\"data row7 col1\" >11</td> \n",
       "    </tr>    <tr> \n",
       "        <th id=\"T_03678ce4_79c9_11e9_a695_2816a853cfe2level0_row8\" class=\"row_heading level0 row8\" >45-49</th> \n",
       "        <td id=\"T_03678ce4_79c9_11e9_a695_2816a853cfe2row8_col0\" class=\"data row8 col0\" >0.17%</td> \n",
       "        <td id=\"T_03678ce4_79c9_11e9_a695_2816a853cfe2row8_col1\" class=\"data row8 col1\" >1</td> \n",
       "    </tr></tbody> \n",
       "</table> "
      ],
      "text/plain": [
       "<pandas.io.formats.style.Styler at 0x152adc2db38>"
      ]
     },
     "execution_count": 32,
     "metadata": {},
     "output_type": "execute_result"
    }
   ],
   "source": [
    "#create age parameters\n",
    "\n",
    "underten = purchase_data[purchase_data[\"Age\"] <10]\n",
    "e_teens = purchase_data[(purchase_data[\"Age\"] >=10) & (purchase_data[\"Age\"] <=14)]\n",
    "h_teens = purchase_data[(purchase_data[\"Age\"] >=15) & (purchase_data[\"Age\"] <=19)]\n",
    "e_twent = purchase_data[(purchase_data[\"Age\"] >=20) & (purchase_data[\"Age\"] <=24)]\n",
    "h_twent = purchase_data[(purchase_data[\"Age\"] >=25) & (purchase_data[\"Age\"] <=29)]\n",
    "e_thirt = purchase_data[(purchase_data[\"Age\"] >=30) & (purchase_data[\"Age\"] <=34)]\n",
    "h_thirt = purchase_data[(purchase_data[\"Age\"] >=35) & (purchase_data[\"Age\"] <=39)]\n",
    "e_forty = purchase_data[(purchase_data[\"Age\"] >=40) & (purchase_data[\"Age\"] <=44)]\n",
    "h_forty = purchase_data[(purchase_data[\"Age\"] >=45) & (purchase_data[\"Age\"] <=49)]\n",
    "\n",
    "age_demo = pd.DataFrame({\"Age\": [\"<10\", \"10-14\", \"15-19\", \"20-24\", \"25-29\", \"30-34\", \"35-39\", \"40-44\", \"45-49\"],\n",
    "                        \"Percentage of Players\": [(underten[\"SN\"].nunique()/total_users)*100, (e_teens[\"SN\"].nunique()/total_users)*100, (h_teens[\"SN\"].nunique()/total_users)*100, (e_twent[\"SN\"].nunique()/total_users)*100, (h_twent[\"SN\"].nunique()/total_users)*100, (e_thirt[\"SN\"].nunique()/total_users)*100, (h_thirt[\"SN\"].nunique()/total_users)*100, (e_forty[\"SN\"].nunique()/total_users)*100, (h_forty[\"SN\"].nunique()/total_users)*100],\n",
    "                        \"Total Count\": [underten[\"SN\"].nunique(), e_teens[\"SN\"].nunique(), h_teens[\"SN\"].nunique(), e_twent[\"SN\"].nunique(), h_twent[\"SN\"].nunique(), e_thirt[\"SN\"].nunique(), h_thirt[\"SN\"].nunique(), e_forty[\"SN\"].nunique(), h_forty[\"SN\"].nunique()]\n",
    "                       })\n",
    "\n",
    "age_demo_final = age_demo.set_index(\"Age\")\n",
    "age_demo_final.style.format({\"Percentage of Players\": \"{:,.2f}%\"})  "
   ]
  },
  {
   "cell_type": "markdown",
   "metadata": {},
   "source": [
    "## Purchasing Analysis (Age)"
   ]
  },
  {
   "cell_type": "code",
   "execution_count": 31,
   "metadata": {},
   "outputs": [
    {
     "data": {
      "text/html": [
       "<style  type=\"text/css\" >\n",
       "</style>  \n",
       "<table id=\"T_fa0ba658_79c8_11e9_b503_2816a853cfe2\" > \n",
       "<thead>    <tr> \n",
       "        <th class=\"blank level0\" ></th> \n",
       "        <th class=\"col_heading level0 col0\" >Purchase Count</th> \n",
       "        <th class=\"col_heading level0 col1\" >Average Purchase Price</th> \n",
       "        <th class=\"col_heading level0 col2\" >Total Purchase Value</th> \n",
       "        <th class=\"col_heading level0 col3\" >Average Purchase Per User</th> \n",
       "    </tr>    <tr> \n",
       "        <th class=\"index_name level0\" >Age</th> \n",
       "        <th class=\"blank\" ></th> \n",
       "        <th class=\"blank\" ></th> \n",
       "        <th class=\"blank\" ></th> \n",
       "        <th class=\"blank\" ></th> \n",
       "    </tr></thead> \n",
       "<tbody>    <tr> \n",
       "        <th id=\"T_fa0ba658_79c8_11e9_b503_2816a853cfe2level0_row0\" class=\"row_heading level0 row0\" ><10</th> \n",
       "        <td id=\"T_fa0ba658_79c8_11e9_b503_2816a853cfe2row0_col0\" class=\"data row0 col0\" >23</td> \n",
       "        <td id=\"T_fa0ba658_79c8_11e9_b503_2816a853cfe2row0_col1\" class=\"data row0 col1\" >$3.35</td> \n",
       "        <td id=\"T_fa0ba658_79c8_11e9_b503_2816a853cfe2row0_col2\" class=\"data row0 col2\" >$77.13</td> \n",
       "        <td id=\"T_fa0ba658_79c8_11e9_b503_2816a853cfe2row0_col3\" class=\"data row0 col3\" >$4.54</td> \n",
       "    </tr>    <tr> \n",
       "        <th id=\"T_fa0ba658_79c8_11e9_b503_2816a853cfe2level0_row1\" class=\"row_heading level0 row1\" >10-14</th> \n",
       "        <td id=\"T_fa0ba658_79c8_11e9_b503_2816a853cfe2row1_col0\" class=\"data row1 col0\" >28</td> \n",
       "        <td id=\"T_fa0ba658_79c8_11e9_b503_2816a853cfe2row1_col1\" class=\"data row1 col1\" >$2.96</td> \n",
       "        <td id=\"T_fa0ba658_79c8_11e9_b503_2816a853cfe2row1_col2\" class=\"data row1 col2\" >$82.78</td> \n",
       "        <td id=\"T_fa0ba658_79c8_11e9_b503_2816a853cfe2row1_col3\" class=\"data row1 col3\" >$3.76</td> \n",
       "    </tr>    <tr> \n",
       "        <th id=\"T_fa0ba658_79c8_11e9_b503_2816a853cfe2level0_row2\" class=\"row_heading level0 row2\" >15-19</th> \n",
       "        <td id=\"T_fa0ba658_79c8_11e9_b503_2816a853cfe2row2_col0\" class=\"data row2 col0\" >136</td> \n",
       "        <td id=\"T_fa0ba658_79c8_11e9_b503_2816a853cfe2row2_col1\" class=\"data row2 col1\" >$3.04</td> \n",
       "        <td id=\"T_fa0ba658_79c8_11e9_b503_2816a853cfe2row2_col2\" class=\"data row2 col2\" >$412.89</td> \n",
       "        <td id=\"T_fa0ba658_79c8_11e9_b503_2816a853cfe2row2_col3\" class=\"data row2 col3\" >$3.86</td> \n",
       "    </tr>    <tr> \n",
       "        <th id=\"T_fa0ba658_79c8_11e9_b503_2816a853cfe2level0_row3\" class=\"row_heading level0 row3\" >20-24</th> \n",
       "        <td id=\"T_fa0ba658_79c8_11e9_b503_2816a853cfe2row3_col0\" class=\"data row3 col0\" >365</td> \n",
       "        <td id=\"T_fa0ba658_79c8_11e9_b503_2816a853cfe2row3_col1\" class=\"data row3 col1\" >$3.05</td> \n",
       "        <td id=\"T_fa0ba658_79c8_11e9_b503_2816a853cfe2row3_col2\" class=\"data row3 col2\" >$1,114.06</td> \n",
       "        <td id=\"T_fa0ba658_79c8_11e9_b503_2816a853cfe2row3_col3\" class=\"data row3 col3\" >$4.32</td> \n",
       "    </tr>    <tr> \n",
       "        <th id=\"T_fa0ba658_79c8_11e9_b503_2816a853cfe2level0_row4\" class=\"row_heading level0 row4\" >25-29</th> \n",
       "        <td id=\"T_fa0ba658_79c8_11e9_b503_2816a853cfe2row4_col0\" class=\"data row4 col0\" >101</td> \n",
       "        <td id=\"T_fa0ba658_79c8_11e9_b503_2816a853cfe2row4_col1\" class=\"data row4 col1\" >$2.90</td> \n",
       "        <td id=\"T_fa0ba658_79c8_11e9_b503_2816a853cfe2row4_col2\" class=\"data row4 col2\" >$293.00</td> \n",
       "        <td id=\"T_fa0ba658_79c8_11e9_b503_2816a853cfe2row4_col3\" class=\"data row4 col3\" >$3.81</td> \n",
       "    </tr>    <tr> \n",
       "        <th id=\"T_fa0ba658_79c8_11e9_b503_2816a853cfe2level0_row5\" class=\"row_heading level0 row5\" >30-34</th> \n",
       "        <td id=\"T_fa0ba658_79c8_11e9_b503_2816a853cfe2row5_col0\" class=\"data row5 col0\" >73</td> \n",
       "        <td id=\"T_fa0ba658_79c8_11e9_b503_2816a853cfe2row5_col1\" class=\"data row5 col1\" >$2.93</td> \n",
       "        <td id=\"T_fa0ba658_79c8_11e9_b503_2816a853cfe2row5_col2\" class=\"data row5 col2\" >$214.00</td> \n",
       "        <td id=\"T_fa0ba658_79c8_11e9_b503_2816a853cfe2row5_col3\" class=\"data row5 col3\" >$4.12</td> \n",
       "    </tr>    <tr> \n",
       "        <th id=\"T_fa0ba658_79c8_11e9_b503_2816a853cfe2level0_row6\" class=\"row_heading level0 row6\" >35-39</th> \n",
       "        <td id=\"T_fa0ba658_79c8_11e9_b503_2816a853cfe2row6_col0\" class=\"data row6 col0\" >41</td> \n",
       "        <td id=\"T_fa0ba658_79c8_11e9_b503_2816a853cfe2row6_col1\" class=\"data row6 col1\" >$3.60</td> \n",
       "        <td id=\"T_fa0ba658_79c8_11e9_b503_2816a853cfe2row6_col2\" class=\"data row6 col2\" >$147.67</td> \n",
       "        <td id=\"T_fa0ba658_79c8_11e9_b503_2816a853cfe2row6_col3\" class=\"data row6 col3\" >$4.76</td> \n",
       "    </tr>    <tr> \n",
       "        <th id=\"T_fa0ba658_79c8_11e9_b503_2816a853cfe2level0_row7\" class=\"row_heading level0 row7\" >40-44</th> \n",
       "        <td id=\"T_fa0ba658_79c8_11e9_b503_2816a853cfe2row7_col0\" class=\"data row7 col0\" >12</td> \n",
       "        <td id=\"T_fa0ba658_79c8_11e9_b503_2816a853cfe2row7_col1\" class=\"data row7 col1\" >$3.04</td> \n",
       "        <td id=\"T_fa0ba658_79c8_11e9_b503_2816a853cfe2row7_col2\" class=\"data row7 col2\" >$36.54</td> \n",
       "        <td id=\"T_fa0ba658_79c8_11e9_b503_2816a853cfe2row7_col3\" class=\"data row7 col3\" >$3.32</td> \n",
       "    </tr>    <tr> \n",
       "        <th id=\"T_fa0ba658_79c8_11e9_b503_2816a853cfe2level0_row8\" class=\"row_heading level0 row8\" >45-49</th> \n",
       "        <td id=\"T_fa0ba658_79c8_11e9_b503_2816a853cfe2row8_col0\" class=\"data row8 col0\" >1</td> \n",
       "        <td id=\"T_fa0ba658_79c8_11e9_b503_2816a853cfe2row8_col1\" class=\"data row8 col1\" >$1.70</td> \n",
       "        <td id=\"T_fa0ba658_79c8_11e9_b503_2816a853cfe2row8_col2\" class=\"data row8 col2\" >$1.70</td> \n",
       "        <td id=\"T_fa0ba658_79c8_11e9_b503_2816a853cfe2row8_col3\" class=\"data row8 col3\" >$1.70</td> \n",
       "    </tr></tbody> \n",
       "</table> "
      ],
      "text/plain": [
       "<pandas.io.formats.style.Styler at 0x152aeb80780>"
      ]
     },
     "execution_count": 31,
     "metadata": {},
     "output_type": "execute_result"
    }
   ],
   "source": [
    "purchasing_age = pd.DataFrame({\"Age\": [\"<10\", \"10-14\", \"15-19\", \"20-24\", \"25-29\", \"30-34\", \"35-39\", \"40-44\", \"45-49\"],\n",
    "                              \"Purchase Count\": [underten[\"Price\"].count(), e_teens[\"Price\"].count(), h_teens[\"Price\"].count(), e_twent[\"Price\"].count(), h_twent[\"Price\"].count(), e_thirt[\"Price\"].count(), h_thirt[\"Price\"].count(), e_forty[\"Price\"].count(), h_forty[\"Price\"].count()],\n",
    "                              \"Average Purchase Price\": [underten[\"Price\"].mean(), e_teens[\"Price\"].mean(), h_teens[\"Price\"].mean(), e_twent[\"Price\"].mean(), h_twent[\"Price\"].mean(), e_thirt[\"Price\"].mean(), h_thirt[\"Price\"].mean(), e_forty[\"Price\"].mean(), h_forty[\"Price\"].mean()], \n",
    "                              \"Total Purchase Value\": [underten[\"Price\"].sum(), e_teens[\"Price\"].sum(), h_teens[\"Price\"].sum(), e_twent[\"Price\"].sum(), h_twent[\"Price\"].sum(), e_thirt[\"Price\"].sum(), h_thirt[\"Price\"].sum(), e_forty[\"Price\"].sum(), h_forty[\"Price\"].sum()],\n",
    "                              \"Average Purchase Per User\": [underten[\"Price\"].sum()/underten['SN'].nunique(), e_teens[\"Price\"].sum()/e_teens['SN'].nunique(), h_teens[\"Price\"].sum()/h_teens['SN'].nunique(), \n",
    "                                                    e_twent[\"Price\"].sum()/e_twent['SN'].nunique(), h_twent[\"Price\"].sum()/h_twent['SN'].nunique(), \n",
    "                                                    e_thirt[\"Price\"].sum()/e_thirt['SN'].nunique(), h_thirt[\"Price\"].sum()/h_thirt['SN'].nunique(), \n",
    "                                                    e_forty[\"Price\"].sum()/e_forty['SN'].nunique(), h_forty[\"Price\"].sum()/h_forty['SN'].nunique()]}, \n",
    "                             columns = \n",
    "                            [\"Age\", \"Purchase Count\", \"Average Purchase Price\", \"Total Purchase Value\", \"Average Purchase Per User\"])\n",
    "\n",
    "purchasing_age_final = purchasing_age.set_index(\"Age\")\n",
    "\n",
    "purchasing_age_final.style.format({\"Average Purchase Price\": \"${:,.2f}\", \"Total Purchase Value\": \"${:,.2f}\", \"Average Purchase Per User\": \"${:,.2f}\"})"
   ]
  },
  {
   "cell_type": "markdown",
   "metadata": {},
   "source": [
    "## Top Spenders"
   ]
  },
  {
   "cell_type": "code",
   "execution_count": 33,
   "metadata": {},
   "outputs": [
    {
     "data": {
      "text/html": [
       "<style  type=\"text/css\" >\n",
       "</style>  \n",
       "<table id=\"T_33d89d62_79ca_11e9_ae74_2816a853cfe2\" > \n",
       "<thead>    <tr> \n",
       "        <th class=\"blank level0\" ></th> \n",
       "        <th class=\"col_heading level0 col0\" >Purchase Count</th> \n",
       "        <th class=\"col_heading level0 col1\" >Average Purchase Price</th> \n",
       "        <th class=\"col_heading level0 col2\" >Total Purchase Value</th> \n",
       "    </tr>    <tr> \n",
       "        <th class=\"index_name level0\" >SN</th> \n",
       "        <th class=\"blank\" ></th> \n",
       "        <th class=\"blank\" ></th> \n",
       "        <th class=\"blank\" ></th> \n",
       "    </tr></thead> \n",
       "<tbody>    <tr> \n",
       "        <th id=\"T_33d89d62_79ca_11e9_ae74_2816a853cfe2level0_row0\" class=\"row_heading level0 row0\" >Lisosia93</th> \n",
       "        <td id=\"T_33d89d62_79ca_11e9_ae74_2816a853cfe2row0_col0\" class=\"data row0 col0\" >5</td> \n",
       "        <td id=\"T_33d89d62_79ca_11e9_ae74_2816a853cfe2row0_col1\" class=\"data row0 col1\" >$3.79</td> \n",
       "        <td id=\"T_33d89d62_79ca_11e9_ae74_2816a853cfe2row0_col2\" class=\"data row0 col2\" >$18.96</td> \n",
       "    </tr>    <tr> \n",
       "        <th id=\"T_33d89d62_79ca_11e9_ae74_2816a853cfe2level0_row1\" class=\"row_heading level0 row1\" >Idastidru52</th> \n",
       "        <td id=\"T_33d89d62_79ca_11e9_ae74_2816a853cfe2row1_col0\" class=\"data row1 col0\" >4</td> \n",
       "        <td id=\"T_33d89d62_79ca_11e9_ae74_2816a853cfe2row1_col1\" class=\"data row1 col1\" >$3.86</td> \n",
       "        <td id=\"T_33d89d62_79ca_11e9_ae74_2816a853cfe2row1_col2\" class=\"data row1 col2\" >$15.45</td> \n",
       "    </tr>    <tr> \n",
       "        <th id=\"T_33d89d62_79ca_11e9_ae74_2816a853cfe2level0_row2\" class=\"row_heading level0 row2\" >Chamjask73</th> \n",
       "        <td id=\"T_33d89d62_79ca_11e9_ae74_2816a853cfe2row2_col0\" class=\"data row2 col0\" >3</td> \n",
       "        <td id=\"T_33d89d62_79ca_11e9_ae74_2816a853cfe2row2_col1\" class=\"data row2 col1\" >$4.61</td> \n",
       "        <td id=\"T_33d89d62_79ca_11e9_ae74_2816a853cfe2row2_col2\" class=\"data row2 col2\" >$13.83</td> \n",
       "    </tr>    <tr> \n",
       "        <th id=\"T_33d89d62_79ca_11e9_ae74_2816a853cfe2level0_row3\" class=\"row_heading level0 row3\" >Iral74</th> \n",
       "        <td id=\"T_33d89d62_79ca_11e9_ae74_2816a853cfe2row3_col0\" class=\"data row3 col0\" >4</td> \n",
       "        <td id=\"T_33d89d62_79ca_11e9_ae74_2816a853cfe2row3_col1\" class=\"data row3 col1\" >$3.40</td> \n",
       "        <td id=\"T_33d89d62_79ca_11e9_ae74_2816a853cfe2row3_col2\" class=\"data row3 col2\" >$13.62</td> \n",
       "    </tr>    <tr> \n",
       "        <th id=\"T_33d89d62_79ca_11e9_ae74_2816a853cfe2level0_row4\" class=\"row_heading level0 row4\" >Iskadarya95</th> \n",
       "        <td id=\"T_33d89d62_79ca_11e9_ae74_2816a853cfe2row4_col0\" class=\"data row4 col0\" >3</td> \n",
       "        <td id=\"T_33d89d62_79ca_11e9_ae74_2816a853cfe2row4_col1\" class=\"data row4 col1\" >$4.37</td> \n",
       "        <td id=\"T_33d89d62_79ca_11e9_ae74_2816a853cfe2row4_col2\" class=\"data row4 col2\" >$13.10</td> \n",
       "    </tr></tbody> \n",
       "</table> "
      ],
      "text/plain": [
       "<pandas.io.formats.style.Styler at 0x152aeb80160>"
      ]
     },
     "execution_count": 33,
     "metadata": {},
     "output_type": "execute_result"
    }
   ],
   "source": [
    "#Note .to_frame converts series to DataFrame.\n",
    "sn_total_purchase = purchase_data.groupby('SN')['Price'].sum().to_frame()\n",
    "sn_purchase_count = purchase_data.groupby('SN')['Price'].count().to_frame()\n",
    "sn_purchase_avg = purchase_data.groupby('SN')['Price'].mean().to_frame()\n",
    "\n",
    "\n",
    "#join DataFrames\n",
    "sn_total_purchase.columns=[\"Total Purchase Value\"]\n",
    "join_one = sn_total_purchase.join(sn_purchase_count, how=\"left\")\n",
    "join_one.columns=[\"Total Purchase Value\", \"Purchase Count\"]\n",
    "\n",
    "join_two = join_one.join(sn_purchase_avg, how=\"inner\")\n",
    "join_two.columns=[\"Total Purchase Value\", \"Purchase Count\", \"Average Purchase Price\"]\n",
    "\n",
    "top_spenders = join_two[[\"Purchase Count\", \"Average Purchase Price\", \"Total Purchase Value\"]]\n",
    "top_spenders_final = top_spenders.sort_values('Total Purchase Value', ascending=False).head()\n",
    "top_spenders_final.style.format({\"Average Purchase Price\": \"${:,.2f}\", \"Total Purchase Value\": \"${:,.2f}\"})"
   ]
  },
  {
   "cell_type": "markdown",
   "metadata": {},
   "source": [
    "## Most Popular Items"
   ]
  },
  {
   "cell_type": "code",
   "execution_count": 48,
   "metadata": {},
   "outputs": [
    {
     "data": {
      "text/html": [
       "<style  type=\"text/css\" >\n",
       "</style>  \n",
       "<table id=\"T_218ed934_79de_11e9_9efe_2816a853cfe2\" > \n",
       "<thead>    <tr> \n",
       "        <th class=\"blank\" ></th> \n",
       "        <th class=\"blank level0\" ></th> \n",
       "        <th class=\"col_heading level0 col0\" >Purchase Count</th> \n",
       "        <th class=\"col_heading level0 col1\" >Item Price</th> \n",
       "        <th class=\"col_heading level0 col2\" >Total Purchase Value</th> \n",
       "    </tr>    <tr> \n",
       "        <th class=\"index_name level0\" >Item Name</th> \n",
       "        <th class=\"index_name level1\" >Item ID</th> \n",
       "        <th class=\"blank\" ></th> \n",
       "        <th class=\"blank\" ></th> \n",
       "        <th class=\"blank\" ></th> \n",
       "    </tr></thead> \n",
       "<tbody>    <tr> \n",
       "        <th id=\"T_218ed934_79de_11e9_9efe_2816a853cfe2level0_row0\" class=\"row_heading level0 row0\" >Oathbreaker, Last Hope of the Breaking Storm</th> \n",
       "        <th id=\"T_218ed934_79de_11e9_9efe_2816a853cfe2level1_row0\" class=\"row_heading level1 row0\" >178</th> \n",
       "        <td id=\"T_218ed934_79de_11e9_9efe_2816a853cfe2row0_col0\" class=\"data row0 col0\" >12</td> \n",
       "        <td id=\"T_218ed934_79de_11e9_9efe_2816a853cfe2row0_col1\" class=\"data row0 col1\" >$4.23</td> \n",
       "        <td id=\"T_218ed934_79de_11e9_9efe_2816a853cfe2row0_col2\" class=\"data row0 col2\" >$50.76</td> \n",
       "    </tr>    <tr> \n",
       "        <th id=\"T_218ed934_79de_11e9_9efe_2816a853cfe2level0_row1\" class=\"row_heading level0 row1\" >Nirvana</th> \n",
       "        <th id=\"T_218ed934_79de_11e9_9efe_2816a853cfe2level1_row1\" class=\"row_heading level1 row1\" >82</th> \n",
       "        <td id=\"T_218ed934_79de_11e9_9efe_2816a853cfe2row1_col0\" class=\"data row1 col0\" >9</td> \n",
       "        <td id=\"T_218ed934_79de_11e9_9efe_2816a853cfe2row1_col1\" class=\"data row1 col1\" >$4.90</td> \n",
       "        <td id=\"T_218ed934_79de_11e9_9efe_2816a853cfe2row1_col2\" class=\"data row1 col2\" >$44.10</td> \n",
       "    </tr>    <tr> \n",
       "        <th id=\"T_218ed934_79de_11e9_9efe_2816a853cfe2level0_row2\" class=\"row_heading level0 row2\" >Fiery Glass Crusader</th> \n",
       "        <th id=\"T_218ed934_79de_11e9_9efe_2816a853cfe2level1_row2\" class=\"row_heading level1 row2\" >145</th> \n",
       "        <td id=\"T_218ed934_79de_11e9_9efe_2816a853cfe2row2_col0\" class=\"data row2 col0\" >9</td> \n",
       "        <td id=\"T_218ed934_79de_11e9_9efe_2816a853cfe2row2_col1\" class=\"data row2 col1\" >$4.58</td> \n",
       "        <td id=\"T_218ed934_79de_11e9_9efe_2816a853cfe2row2_col2\" class=\"data row2 col2\" >$41.22</td> \n",
       "    </tr>    <tr> \n",
       "        <th id=\"T_218ed934_79de_11e9_9efe_2816a853cfe2level0_row3\" class=\"row_heading level0 row3\" >Extraction, Quickblade Of Trembling Hands</th> \n",
       "        <th id=\"T_218ed934_79de_11e9_9efe_2816a853cfe2level1_row3\" class=\"row_heading level1 row3\" >108</th> \n",
       "        <td id=\"T_218ed934_79de_11e9_9efe_2816a853cfe2row3_col0\" class=\"data row3 col0\" >9</td> \n",
       "        <td id=\"T_218ed934_79de_11e9_9efe_2816a853cfe2row3_col1\" class=\"data row3 col1\" >$3.53</td> \n",
       "        <td id=\"T_218ed934_79de_11e9_9efe_2816a853cfe2row3_col2\" class=\"data row3 col2\" >$31.77</td> \n",
       "    </tr>    <tr> \n",
       "        <th id=\"T_218ed934_79de_11e9_9efe_2816a853cfe2level0_row4\" class=\"row_heading level0 row4\" >Singed Scalpel</th> \n",
       "        <th id=\"T_218ed934_79de_11e9_9efe_2816a853cfe2level1_row4\" class=\"row_heading level1 row4\" >103</th> \n",
       "        <td id=\"T_218ed934_79de_11e9_9efe_2816a853cfe2row4_col0\" class=\"data row4 col0\" >8</td> \n",
       "        <td id=\"T_218ed934_79de_11e9_9efe_2816a853cfe2row4_col1\" class=\"data row4 col1\" >$4.35</td> \n",
       "        <td id=\"T_218ed934_79de_11e9_9efe_2816a853cfe2row4_col2\" class=\"data row4 col2\" >$34.80</td> \n",
       "    </tr>    <tr> \n",
       "        <th id=\"T_218ed934_79de_11e9_9efe_2816a853cfe2level0_row5\" class=\"row_heading level0 row5\" >Wolf</th> \n",
       "        <th id=\"T_218ed934_79de_11e9_9efe_2816a853cfe2level1_row5\" class=\"row_heading level1 row5\" >60</th> \n",
       "        <td id=\"T_218ed934_79de_11e9_9efe_2816a853cfe2row5_col0\" class=\"data row5 col0\" >8</td> \n",
       "        <td id=\"T_218ed934_79de_11e9_9efe_2816a853cfe2row5_col1\" class=\"data row5 col1\" >$3.54</td> \n",
       "        <td id=\"T_218ed934_79de_11e9_9efe_2816a853cfe2row5_col2\" class=\"data row5 col2\" >$28.32</td> \n",
       "    </tr></tbody> \n",
       "</table> "
      ],
      "text/plain": [
       "<pandas.io.formats.style.Styler at 0x152aeb09cc0>"
      ]
     },
     "execution_count": 48,
     "metadata": {},
     "output_type": "execute_result"
    }
   ],
   "source": [
    "#merge dataframes to find purchase count, total purchase value for items\n",
    "#reset indices to dataframes can be merged on specific elements\n",
    "merge_a = purchase_data.groupby(\"Item Name\").sum().reset_index()\n",
    "merge_b = purchase_data.groupby(\"Item ID\").sum().reset_index()\n",
    "merge_c = purchase_data.groupby(\"Item Name\").count().reset_index()\n",
    "\n",
    "#merge dataframes\n",
    "mergeone = pd.merge(merge_a, merge_b, on=\"Price\")\n",
    "mergetwo = pd.merge(merge_c, mergeone, on=\"Item Name\")\n",
    "\n",
    "#start to create final dataframe by manipulating data\n",
    "mergetwo[\"Gender\"] = (mergetwo[\"Price_y\"]/mergetwo[\"Item ID\"]).round(2)\n",
    "\n",
    "mergetwo_renamed = mergetwo.rename(columns={\"Age\": \"Purchase Count\", \"Gender\": \"Item Price\", \"Item ID\": \"null\", \"Price_y\": \"Total Purchase Value\", \"Item ID_y\": \"Item ID\"})\n",
    "\n",
    "#grab columns we are looking for\n",
    "clean = mergetwo_renamed[[\"Item ID\", \"Item Name\", \"Purchase Count\", \"Item Price\", \"Total Purchase Value\"]]\n",
    "\n",
    "#clean and set formatting for chart \n",
    "final_one = clean.set_index(['Item Name', 'Item ID'])\n",
    "popular_items_final = prefinal_df.sort_values('Purchase Count', ascending=False).head(6)\n",
    "popular_items_final.style.format({\"Item Price\": \"${:,.2f}\", \"Total Purchase Value\": \"${:,.2f}\"})"
   ]
  },
  {
   "cell_type": "markdown",
   "metadata": {},
   "source": [
    "## Most Profitable Items"
   ]
  },
  {
   "cell_type": "code",
   "execution_count": 46,
   "metadata": {
    "scrolled": true
   },
   "outputs": [
    {
     "data": {
      "text/html": [
       "<style  type=\"text/css\" >\n",
       "</style>  \n",
       "<table id=\"T_66e3b7e2_79dd_11e9_ab8c_2816a853cfe2\" > \n",
       "<thead>    <tr> \n",
       "        <th class=\"blank\" ></th> \n",
       "        <th class=\"blank level0\" ></th> \n",
       "        <th class=\"col_heading level0 col0\" >Purchase Count</th> \n",
       "        <th class=\"col_heading level0 col1\" >Item Price</th> \n",
       "        <th class=\"col_heading level0 col2\" >Total Purchase Value</th> \n",
       "    </tr>    <tr> \n",
       "        <th class=\"index_name level0\" >Item Name</th> \n",
       "        <th class=\"index_name level1\" >Item ID</th> \n",
       "        <th class=\"blank\" ></th> \n",
       "        <th class=\"blank\" ></th> \n",
       "        <th class=\"blank\" ></th> \n",
       "    </tr></thead> \n",
       "<tbody>    <tr> \n",
       "        <th id=\"T_66e3b7e2_79dd_11e9_ab8c_2816a853cfe2level0_row0\" class=\"row_heading level0 row0\" >Oathbreaker, Last Hope of the Breaking Storm</th> \n",
       "        <th id=\"T_66e3b7e2_79dd_11e9_ab8c_2816a853cfe2level1_row0\" class=\"row_heading level1 row0\" >178</th> \n",
       "        <td id=\"T_66e3b7e2_79dd_11e9_ab8c_2816a853cfe2row0_col0\" class=\"data row0 col0\" >12</td> \n",
       "        <td id=\"T_66e3b7e2_79dd_11e9_ab8c_2816a853cfe2row0_col1\" class=\"data row0 col1\" >$4.23</td> \n",
       "        <td id=\"T_66e3b7e2_79dd_11e9_ab8c_2816a853cfe2row0_col2\" class=\"data row0 col2\" >$50.76</td> \n",
       "    </tr>    <tr> \n",
       "        <th id=\"T_66e3b7e2_79dd_11e9_ab8c_2816a853cfe2level0_row1\" class=\"row_heading level0 row1\" >Nirvana</th> \n",
       "        <th id=\"T_66e3b7e2_79dd_11e9_ab8c_2816a853cfe2level1_row1\" class=\"row_heading level1 row1\" >82</th> \n",
       "        <td id=\"T_66e3b7e2_79dd_11e9_ab8c_2816a853cfe2row1_col0\" class=\"data row1 col0\" >9</td> \n",
       "        <td id=\"T_66e3b7e2_79dd_11e9_ab8c_2816a853cfe2row1_col1\" class=\"data row1 col1\" >$4.90</td> \n",
       "        <td id=\"T_66e3b7e2_79dd_11e9_ab8c_2816a853cfe2row1_col2\" class=\"data row1 col2\" >$44.10</td> \n",
       "    </tr>    <tr> \n",
       "        <th id=\"T_66e3b7e2_79dd_11e9_ab8c_2816a853cfe2level0_row2\" class=\"row_heading level0 row2\" >Fiery Glass Crusader</th> \n",
       "        <th id=\"T_66e3b7e2_79dd_11e9_ab8c_2816a853cfe2level1_row2\" class=\"row_heading level1 row2\" >145</th> \n",
       "        <td id=\"T_66e3b7e2_79dd_11e9_ab8c_2816a853cfe2row2_col0\" class=\"data row2 col0\" >9</td> \n",
       "        <td id=\"T_66e3b7e2_79dd_11e9_ab8c_2816a853cfe2row2_col1\" class=\"data row2 col1\" >$4.58</td> \n",
       "        <td id=\"T_66e3b7e2_79dd_11e9_ab8c_2816a853cfe2row2_col2\" class=\"data row2 col2\" >$41.22</td> \n",
       "    </tr>    <tr> \n",
       "        <th id=\"T_66e3b7e2_79dd_11e9_ab8c_2816a853cfe2level0_row3\" class=\"row_heading level0 row3\" >Singed Scalpel</th> \n",
       "        <th id=\"T_66e3b7e2_79dd_11e9_ab8c_2816a853cfe2level1_row3\" class=\"row_heading level1 row3\" >103</th> \n",
       "        <td id=\"T_66e3b7e2_79dd_11e9_ab8c_2816a853cfe2row3_col0\" class=\"data row3 col0\" >8</td> \n",
       "        <td id=\"T_66e3b7e2_79dd_11e9_ab8c_2816a853cfe2row3_col1\" class=\"data row3 col1\" >$4.35</td> \n",
       "        <td id=\"T_66e3b7e2_79dd_11e9_ab8c_2816a853cfe2row3_col2\" class=\"data row3 col2\" >$34.80</td> \n",
       "    </tr>    <tr> \n",
       "        <th id=\"T_66e3b7e2_79dd_11e9_ab8c_2816a853cfe2level0_row4\" class=\"row_heading level0 row4\" >Lightning, Etcher of the King</th> \n",
       "        <th id=\"T_66e3b7e2_79dd_11e9_ab8c_2816a853cfe2level1_row4\" class=\"row_heading level1 row4\" >59</th> \n",
       "        <td id=\"T_66e3b7e2_79dd_11e9_ab8c_2816a853cfe2row4_col0\" class=\"data row4 col0\" >8</td> \n",
       "        <td id=\"T_66e3b7e2_79dd_11e9_ab8c_2816a853cfe2row4_col1\" class=\"data row4 col1\" >$4.23</td> \n",
       "        <td id=\"T_66e3b7e2_79dd_11e9_ab8c_2816a853cfe2row4_col2\" class=\"data row4 col2\" >$33.84</td> \n",
       "    </tr></tbody> \n",
       "</table> "
      ],
      "text/plain": [
       "<pandas.io.formats.style.Styler at 0x152aecc7fd0>"
      ]
     },
     "execution_count": 46,
     "metadata": {},
     "output_type": "execute_result"
    }
   ],
   "source": [
    "profit_items_final = final_one.sort_values('Total Purchase Value', ascending=False).head()\n",
    "\n",
    "#Set formatting for chart data \n",
    "profit_items_final.style.format({\"Item Price\": \"${:,.2f}\", \"Total Purchase Value\": \"${:,.2f}\"})"
   ]
  }
 ],
 "metadata": {
  "anaconda-cloud": {},
  "kernel_info": {
   "name": "python3"
  },
  "kernelspec": {
   "display_name": "Python 3",
   "language": "python",
   "name": "python3"
  },
  "language_info": {
   "codemirror_mode": {
    "name": "ipython",
    "version": 3
   },
   "file_extension": ".py",
   "mimetype": "text/x-python",
   "name": "python",
   "nbconvert_exporter": "python",
   "pygments_lexer": "ipython3",
   "version": "3.7.1"
  },
  "nteract": {
   "version": "0.2.0"
  }
 },
 "nbformat": 4,
 "nbformat_minor": 2
}
